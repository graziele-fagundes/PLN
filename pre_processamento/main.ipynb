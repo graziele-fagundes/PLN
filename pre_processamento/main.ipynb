{
 "cells": [
  {
   "cell_type": "code",
   "execution_count": null,
   "metadata": {},
   "outputs": [],
   "source": [
    "import requests\n",
    "import pandas as pd\n",
    "from bs4 import BeautifulSoup\n",
    "import nltk\n",
    "import matplotlib.pyplot as plt\n",
    "from collections import Counter\n",
    "\n",
    "nltk.download('rslp')\n",
    "nltk.download('wordnet')"
   ]
  },
  {
   "cell_type": "code",
   "execution_count": null,
   "metadata": {},
   "outputs": [],
   "source": [
    "url_base = 'https://institucional.ufpel.edu.br'"
   ]
  },
  {
   "cell_type": "code",
   "execution_count": null,
   "metadata": {},
   "outputs": [],
   "source": [
    "# Get tittle and url of [count] projects\n",
    "def getProjects(df, url, count):\n",
    "    if count < 1:\n",
    "        return df\n",
    "    \n",
    "    url = url + '/projetos'\n",
    "    response = requests.get(url)\n",
    "    url_list = []\n",
    "    titles_list = []\n",
    "    if response.status_code == 200:\n",
    "        html = response.text\n",
    "\n",
    "        soup = BeautifulSoup(html, 'html.parser')\n",
    "\n",
    "        projects = soup.find_all('tbody')\n",
    "\n",
    "        # get all \"tr\" tags\n",
    "        projects = projects[0].find_all('tr')\n",
    "        for p in projects[:count]:\n",
    "            # url\n",
    "            url_list.append(p.find('a').get('href'))\n",
    "            # title\n",
    "            titles_list.append(p.find('a').text)\n",
    "        \n",
    "        df['url'] = url_list\n",
    "        df['title'] = titles_list\n",
    "        return df"
   ]
  },
  {
   "cell_type": "code",
   "execution_count": null,
   "metadata": {},
   "outputs": [],
   "source": [
    "# Get information of projects\n",
    "def getProjectsAbstract(df, url_base):\n",
    "    urls = df['url']\n",
    "    abstracts = []\n",
    "\n",
    "    for url in urls:\n",
    "        page = url_base + url\n",
    "        response = requests.get(page)\n",
    "        if response.status_code == 200:\n",
    "            html = response.text\n",
    "            soup = BeautifulSoup(html, 'html.parser')\n",
    "            \n",
    "            # get project abstract\n",
    "            description = soup.find('div', class_='ficha-dados cor-borda').text\n",
    "            abstracts.append(description.split('Resumo')[1])\n",
    "\n",
    "    df['abstract'] = abstracts\n",
    "    return df"
   ]
  },
  {
   "cell_type": "code",
   "execution_count": null,
   "metadata": {},
   "outputs": [],
   "source": [
    "# Preprocess text functions\n",
    "def normalize(df):\n",
    "    df['abstract'] = df['abstract'].str.lower()\n",
    "    return df\n",
    "\n",
    "def remove_special_chars(df):\n",
    "    df[\"abstract\"] = df[\"abstract\"].str.replace(r\"[^a-zá-úãõâêîôûàèìòùç\\s]\", \"\", regex=True)\n",
    "    return df\n",
    "\n",
    "def tokenize(df):\n",
    "    df['tokenized'] = df['abstract'].apply(nltk.word_tokenize)\n",
    "    return df\n",
    "\n",
    "def remove_stopwords(df):\n",
    "    stop_words = set(nltk.corpus.stopwords.words('portuguese'))\n",
    "    df['tokenized'] = df['tokenized'].apply(lambda x: [item for item in x if item not in stop_words])\n",
    "    return df\n",
    "\n",
    "def stem(df):\n",
    "    stemmer = nltk.stem.RSLPStemmer()\n",
    "    df['tokenized'] = df['tokenized'].apply(lambda x: [stemmer.stem(item) for item in x])\n",
    "    return df\n",
    "\n",
    "def lematize(df):\n",
    "    lemmatizer = nltk.stem.WordNetLemmatizer()\n",
    "    df['tokenized'] = df['tokenized'].apply(lambda x: [lemmatizer.lemmatize(item) for item in x])\n",
    "    return df"
   ]
  },
  {
   "cell_type": "code",
   "execution_count": null,
   "metadata": {},
   "outputs": [],
   "source": [
    "# Plot unigrams and bigrams\n",
    "def pipeline_to_str(pipeline):\n",
    "    return ' -> '.join([step.__name__ for step in pipeline])\n",
    "\n",
    "def plot_unigrams(df, column='tokenized', top_n=20, pipeline_key=None, pipeline=None):\n",
    "    unigrams = Counter([word for tokens in df[column] for word in tokens])\n",
    "    most_common = unigrams.most_common(top_n)\n",
    "    \n",
    "    words, counts = zip(*most_common)\n",
    "    \n",
    "    plt.figure(figsize=(10, 6))\n",
    "    plt.bar(words, counts, color='skyblue')\n",
    "    plt.title(f\"Pipeline {pipeline_key}: \" + pipeline_to_str(pipeline), fontsize=14)\n",
    "    plt.xlabel(\"Unigramas\", fontsize=14)\n",
    "    plt.ylabel(\"Frequência\", fontsize=14)\n",
    "    plt.xticks(rotation=45, ha='right')\n",
    "    plt.tight_layout()\n",
    "    plt.show()\n",
    "\n",
    "def plot_bigrams(df, column='tokenized', top_n=20, pipeline_key=None, pipeline=None):\n",
    "    bigrams = Counter([(tokens[i], tokens[i+1]) for tokens in df[column] for i in range(len(tokens)-1)])\n",
    "    most_common = bigrams.most_common(top_n)\n",
    "    \n",
    "    bigram_words, counts = zip(*most_common)\n",
    "    bigram_labels = [' '.join(bigram) for bigram in bigram_words]\n",
    "    \n",
    "    plt.figure(figsize=(10, 6))\n",
    "    plt.bar(bigram_labels, counts, color='lightgreen')\n",
    "    plt.title(f\"Pipeline {pipeline_key}: \" + pipeline_to_str(pipeline), fontsize=14)\n",
    "    plt.xlabel(\"Bigramas\", fontsize=14)\n",
    "    plt.ylabel(\"Frequência\", fontsize=14)\n",
    "    plt.xticks(rotation=45, ha='right')\n",
    "    plt.tight_layout()\n",
    "    plt.show()"
   ]
  },
  {
   "cell_type": "code",
   "execution_count": null,
   "metadata": {},
   "outputs": [],
   "source": [
    "df = pd.DataFrame()\n",
    "\n",
    "df = getProjects(df, url_base, 100)\n",
    "df = getProjectsAbstract(df, url_base)\n",
    "\n",
    "print(\"Projects: \", df.shape[0])"
   ]
  },
  {
   "cell_type": "code",
   "execution_count": null,
   "metadata": {},
   "outputs": [],
   "source": [
    "pipelines = {\n",
    "    '1': [normalize, tokenize, remove_stopwords],\n",
    "    '2': [normalize, tokenize, remove_stopwords, stem],\n",
    "    '3': [normalize, tokenize, remove_stopwords, lematize],\n",
    "    '4': [normalize, remove_special_chars, tokenize, remove_stopwords, lematize],\n",
    "}\n",
    "\n",
    "for key, pipeline in pipelines.items():\n",
    "    df_copy = df.copy()\n",
    "    for func in pipeline:\n",
    "        df_copy = df_copy.pipe(func)\n",
    "\n",
    "    plot_unigrams(df_copy, column='tokenized', top_n=20, pipeline_key=key, pipeline=pipeline)\n",
    "    plot_bigrams(df_copy, column='tokenized', top_n=20, pipeline_key=key, pipeline=pipeline)"
   ]
  }
 ],
 "metadata": {
  "kernelspec": {
   "display_name": "Python 3",
   "language": "python",
   "name": "python3"
  },
  "language_info": {
   "codemirror_mode": {
    "name": "ipython",
    "version": 3
   },
   "file_extension": ".py",
   "mimetype": "text/x-python",
   "name": "python",
   "nbconvert_exporter": "python",
   "pygments_lexer": "ipython3",
   "version": "3.10.10"
  }
 },
 "nbformat": 4,
 "nbformat_minor": 2
}
