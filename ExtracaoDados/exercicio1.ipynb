{
 "cells": [
  {
   "cell_type": "code",
   "execution_count": 19,
   "metadata": {},
   "outputs": [],
   "source": [
    "from bs4 import BeautifulSoup\n",
    "import pandas as pd"
   ]
  },
  {
   "cell_type": "code",
   "execution_count": 20,
   "metadata": {},
   "outputs": [
    {
     "name": "stdout",
     "output_type": "stream",
     "text": [
      "                                              Titulo  \\\n",
      "0                  Novo Lançamento: \"Cyberpunk 2077\"   \n",
      "1                          Atualização de \"Fortnite\"   \n",
      "2                Análise de \"The Last of Us Part II\"   \n",
      "3             Análise de \"Assassin's Creed Valhalla\"   \n",
      "4                Gameplay de \"Red Dead Redemption 2\"   \n",
      "5  Entrevista com Desenvolvedores de \"Halo Infinite\"   \n",
      "\n",
      "                                            Conteudo  \n",
      "0  O altamente aguardado jogo \"Cyberpunk 2077\" já...  \n",
      "1  A mais recente atualização de \"Fortnite\" traz ...  \n",
      "2  Confira nossa análise completa do jogo \"The La...  \n",
      "3  Saiba o que achamos do jogo \"Assassin's Creed ...  \n",
      "4  Assista ao nosso gameplay exclusivo de \"Red De...  \n",
      "5  Confira nossa entrevista exclusiva com os dese...  \n"
     ]
    }
   ],
   "source": [
    "HTMLFile = open(\"exemplo.html\", \"r\", encoding=\"utf-8\")\n",
    "HTMLContent = HTMLFile.read()\n",
    "\n",
    "soup = BeautifulSoup(HTMLContent, 'html.parser')\n",
    "\n",
    "# Encontrando todos os artigos\n",
    "articles = soup.find_all('article')\n",
    "\n",
    "# Criando um DataFrame\n",
    "data = []\n",
    "for article in articles:\n",
    "    data.append({'Titulo': article.h3.text, 'Conteudo': article.p.text})\n",
    "\n",
    "df = pd.DataFrame(data)\n",
    "print(df)"
   ]
  }
 ],
 "metadata": {
  "kernelspec": {
   "display_name": "Python 3",
   "language": "python",
   "name": "python3"
  },
  "language_info": {
   "codemirror_mode": {
    "name": "ipython",
    "version": 3
   },
   "file_extension": ".py",
   "mimetype": "text/x-python",
   "name": "python",
   "nbconvert_exporter": "python",
   "pygments_lexer": "ipython3",
   "version": "3.12.3"
  }
 },
 "nbformat": 4,
 "nbformat_minor": 2
}
