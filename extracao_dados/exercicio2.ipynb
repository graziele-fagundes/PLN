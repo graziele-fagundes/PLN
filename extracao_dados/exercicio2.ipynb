{
 "cells": [
  {
   "cell_type": "code",
   "execution_count": 52,
   "metadata": {},
   "outputs": [],
   "source": [
    "from bs4 import BeautifulSoup\n",
    "import pandas as pd\n",
    "import requests"
   ]
  },
  {
   "cell_type": "code",
   "execution_count": null,
   "metadata": {},
   "outputs": [],
   "source": [
    "dfTurmas = pd.DataFrame(columns=['Curso', 'Turma', 'Professores', 'Vagas', 'Alunos Matriculados'])"
   ]
  },
  {
   "cell_type": "code",
   "execution_count": null,
   "metadata": {},
   "outputs": [],
   "source": [
    "response = requests.get(\"https://institucional.ufpel.edu.br/unidades/id/443\")\n",
    "if response.status_code == 200:\n",
    "    HTMLContent = response.text\n",
    "\n",
    "soup = BeautifulSoup(HTMLContent, 'html.parser')\n",
    "\n",
    "div_graduacao = soup.find_all('div', id='graduacao')\n",
    "cursos = div_graduacao[0].find_all('li')\n",
    "\n",
    "for curso in cursos:\n",
    "    response = requests.get('https://institucional.ufpel.edu.br/' + curso.find('a')['href'])\n",
    "    if response.status_code == 200:\n",
    "        HTMLContent = response.text\n",
    "\n",
    "    soup = BeautifulSoup(HTMLContent, 'html.parser')\n",
    "    turmas_ofertadas = soup.find_all('div', class_='versao atual')\n",
    "    turmas_ofertadas = turmas_ofertadas[0].find_all('tr')\n",
    "    for turma in turmas_ofertadas:\n",
    "        link = turma.find('a')\n",
    "        if link is not None:\n",
    "            try:\n",
    "                vagas = turma.find_all('td')[5].text\n",
    "            except:\n",
    "                vagas = 'Não informado'\n",
    "\n",
    "            try:\n",
    "                alunos_matriculados = turma.find_all('td')[6].text\n",
    "            except:\n",
    "                alunos_matriculados = 'Não informado'  \n",
    "\n",
    "            dfTurmas = pd.concat([dfTurmas,pd.DataFrame([[curso.text, link.text, turma.find_all('span', class_='tabela-detalhe-info')[0].text, vagas, alunos_matriculados]], columns=['Curso', 'Turma', 'Professores', 'Vagas', 'Alunos Matriculados'])], ignore_index=True)\n",
    "print(dfTurmas)"
   ]
  },
  {
   "cell_type": "code",
   "execution_count": null,
   "metadata": {},
   "outputs": [],
   "source": [
    "dfComp = pd.DataFrame(columns=['Curso', 'Professor', 'Projeto', 'Resumo'])"
   ]
  },
  {
   "cell_type": "code",
   "execution_count": null,
   "metadata": {},
   "outputs": [],
   "source": [
    "# Ciência da Computação\n",
    "ccomp = requests.get(\"https://institucional.ufpel.edu.br/cursos/cod/3900\")\n",
    "if ccomp.status_code == 200:\n",
    "    ccompHTMLContent = ccomp.text\n",
    "\n",
    "ccompSoup = BeautifulSoup(ccompHTMLContent, 'html.parser')\n",
    "div_professores = ccompSoup.find_all('div', id='professores')\n",
    "professores = div_professores[0].find_all('tr')\n",
    "\n",
    "for professor in professores:\n",
    "    departamento = professor.find_all('span', class_='p-org')\n",
    "    if departamento and departamento[0].text == 'Centro de Desenvolvimento Tecnológico':\n",
    "        nome_professor = professor.find_all('span', class_='tabela-detalhe-titulo p-name')[0].text\n",
    "        departamento = departamento[0].text\n",
    "        link = 'https://institucional.ufpel.edu.br/'+ professor.find_all('a')[0]['href']\n",
    "        \n",
    "        pagina_professor = requests.get(link)\n",
    "        if pagina_professor.status_code == 200:\n",
    "            pagina_professorHTMLContent = pagina_professor.text\n",
    "        pagina_professorSoup = BeautifulSoup(pagina_professorHTMLContent, 'html.parser')\n",
    "        div_projetos = pagina_professorSoup.find_all('div', id='projetos')\n",
    "        \n",
    "        projetos = div_projetos[0].find_all('tr', class_='')\n",
    "        for projeto in projetos:\n",
    "            link = projeto.find_all('a')\n",
    "            if link:\n",
    "                nome_projeto = link[0].text\n",
    "                link_projeto = 'https://institucional.ufpel.edu.br/'+ link[0]['href']\n",
    "                \n",
    "                pagina_projeto = requests.get(link_projeto)\n",
    "                if pagina_projeto.status_code == 200:\n",
    "                    pagina_projetoHTMLContent = pagina_projeto.text\n",
    "                pagina_projetoSoup = BeautifulSoup(pagina_projetoHTMLContent, 'html.parser')\n",
    "                resumo = pagina_projetoSoup.find_all('div', class_='accordion-content')[0].text\n",
    "\n",
    "                dfComp = pd.concat([dfComp,pd.DataFrame([['Ciência da Computação (Bacharelado)', nome_professor, nome_projeto, resumo]], columns=['Curso', 'Professor', 'Projeto', 'Resumo'])], ignore_index=True)\n"
   ]
  },
  {
   "cell_type": "code",
   "execution_count": null,
   "metadata": {},
   "outputs": [],
   "source": [
    "# Engenharia de Computação\n",
    "ecomp = requests.get(\"https://institucional.ufpel.edu.br/cursos/cod/3910\")\n",
    "if ecomp.status_code == 200:\n",
    "    ecompHTMLContent = ecomp.text\n",
    "\n",
    "ecompSoup = BeautifulSoup(ecompHTMLContent, 'html.parser')\n",
    "\n",
    "div_professores = ecompSoup.find_all('div', id='professores')\n",
    "professores = div_professores[0].find_all('tr')\n",
    "\n",
    "for professor in professores:\n",
    "    departamento = professor.find_all('span', class_='p-org')\n",
    "    if departamento and departamento[0].text == 'Centro de Desenvolvimento Tecnológico':\n",
    "        nome_professor = professor.find_all('span', class_='tabela-detalhe-titulo p-name')[0].text\n",
    "        departamento = departamento[0].text\n",
    "        link = 'https://institucional.ufpel.edu.br/'+ professor.find_all('a')[0]['href']\n",
    "        \n",
    "        pagina_professor = requests.get(link)\n",
    "        if pagina_professor.status_code == 200:\n",
    "            pagina_professorHTMLContent = pagina_professor.text\n",
    "        pagina_professorSoup = BeautifulSoup(pagina_professorHTMLContent, 'html.parser')\n",
    "        div_projetos = pagina_professorSoup.find_all('div', id='projetos')\n",
    "        \n",
    "        projetos = div_projetos[0].find_all('tr', class_='')\n",
    "        for projeto in projetos:\n",
    "            link = projeto.find_all('a')\n",
    "            if link:\n",
    "                nome_projeto = link[0].text\n",
    "                link_projeto = 'https://institucional.ufpel.edu.br/'+ link[0]['href']\n",
    "                \n",
    "                pagina_projeto = requests.get(link_projeto)\n",
    "                if pagina_projeto.status_code == 200:\n",
    "                    pagina_projetoHTMLContent = pagina_projeto.text\n",
    "                pagina_projetoSoup = BeautifulSoup(pagina_projetoHTMLContent, 'html.parser')\n",
    "                resumo = pagina_projetoSoup.find_all('div', class_='accordion-content')[0].text\n",
    "\n",
    "                dfComp = pd.concat([dfComp,pd.DataFrame([['Engenharia de Computação (Bacharelado)', nome_professor, nome_projeto, resumo]], columns=['Curso', 'Professor', 'Projeto', 'Resumo'])], ignore_index=True)\n"
   ]
  },
  {
   "cell_type": "code",
   "execution_count": null,
   "metadata": {},
   "outputs": [],
   "source": [
    "dfComp.to_csv('projetos.csv', index=False)"
   ]
  }
 ],
 "metadata": {
  "kernelspec": {
   "display_name": "Python 3",
   "language": "python",
   "name": "python3"
  },
  "language_info": {
   "codemirror_mode": {
    "name": "ipython",
    "version": 3
   },
   "file_extension": ".py",
   "mimetype": "text/x-python",
   "name": "python",
   "nbconvert_exporter": "python",
   "pygments_lexer": "ipython3",
   "version": "3.13.0"
  }
 },
 "nbformat": 4,
 "nbformat_minor": 2
}
