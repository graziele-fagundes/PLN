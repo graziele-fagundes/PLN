{
 "cells": [
  {
   "cell_type": "code",
   "execution_count": null,
   "metadata": {},
   "outputs": [],
   "source": [
    "from bs4 import BeautifulSoup\n",
    "import pandas as pd"
   ]
  },
  {
   "cell_type": "code",
   "execution_count": null,
   "metadata": {},
   "outputs": [],
   "source": [
    "HTMLFile = open(\"exemplo.html\", \"r\", encoding=\"utf-8\")\n",
    "HTMLContent = HTMLFile.read()\n",
    "\n",
    "soup = BeautifulSoup(HTMLContent, 'html.parser')\n",
    "\n",
    "# Encontrando todos os artigos\n",
    "articles = soup.find_all('article')\n",
    "\n",
    "# Criando um DataFrame\n",
    "data = []\n",
    "for article in articles:\n",
    "    data.append({'Titulo': article.h3.text, 'Conteudo': article.p.text})\n",
    "\n",
    "df = pd.DataFrame(data)\n",
    "print(df)"
   ]
  }
 ],
 "metadata": {
  "kernelspec": {
   "display_name": "Python 3",
   "language": "python",
   "name": "python3"
  },
  "language_info": {
   "codemirror_mode": {
    "name": "ipython",
    "version": 3
   },
   "file_extension": ".py",
   "mimetype": "text/x-python",
   "name": "python",
   "nbconvert_exporter": "python",
   "pygments_lexer": "ipython3",
   "version": "3.12.3"
  }
 },
 "nbformat": 4,
 "nbformat_minor": 2
}
